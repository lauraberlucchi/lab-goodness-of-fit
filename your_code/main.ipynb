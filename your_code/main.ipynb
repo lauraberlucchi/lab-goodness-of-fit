{
 "cells": [
  {
   "cell_type": "markdown",
   "metadata": {},
   "source": [
    "## Question 1\n",
    "The following table indicates the number of 6-point scores in an American rugby match in the 1979 season.\n",
    "\n",
    "![](table1.png)\n",
    "\n",
    "Based on these results, we create a Poisson distribution with the sample mean parameter  = 2.435. Is there any reason to believe that at a .05 level the number of scores is a Poisson variable?\n",
    "\n",
    "Check [here](https://www.geeksforgeeks.org/how-to-create-a-poisson-probability-mass-function-plot-in-python/) how to create a poisson distribution and how to calculate the expected observations, using the probability mass function (pmf). \n",
    "A Poisson distribution is a discrete probability distribution. It gives the probability of an event happening a certain number of times (k) within a given interval of time or space. The Poisson distribution has only one parameter, λ (lambda), which is the mean number of events."
   ]
  },
  {
   "cell_type": "code",
   "execution_count": 22,
   "metadata": {},
   "outputs": [],
   "source": [
    "# your answer here\n",
    "import scipy.stats as stats\n",
    "import pandas as pd\n",
    "import numpy as np\n",
    "import matplotlib.pyplot as plt"
   ]
  },
  {
   "cell_type": "code",
   "execution_count": 23,
   "metadata": {},
   "outputs": [
    {
     "data": {
      "image/png": "[encoded data removed]",
      "text/plain": [
       "<Figure size 640x480 with 1 Axes>"
      ]
     },
     "metadata": {},
     "output_type": "display_data"
    }
   ],
   "source": [
    " # creating a numpy array for x-axis\n",
    "x = np.arange(0, 15, 0.5)\n",
    " \n",
    "# poisson distribution data for y-axis\n",
    "y = stats.poisson.pmf(x, mu=2.435)\n",
    " \n",
    "plt.plot(x, y)\n",
    "plt.show()"
   ]
  },
  {
   "cell_type": "code",
   "execution_count": 24,
   "metadata": {},
   "outputs": [
    {
     "name": "stdout",
     "output_type": "stream",
     "text": [
      "[ 39.38705697  95.90748373 116.76736144  94.77617503  57.69499655\n",
      "  28.09746332  11.4028872    3.96657576]\n"
     ]
    }
   ],
   "source": [
    "O = np.array([35, 99, 104, 110, 62, 25, 10, 3])\n",
    "\n",
    "# Mean parameter of the sample and lambda in the Poisson distribution\n",
    "lambda_value = 2.435\n",
    "\n",
    "# Calculation using the Poisson PMF formula\n",
    "E = np.array([stats.poisson.pmf(k, lambda_value) * sum(O) for k in range(len(O))])\n",
    "\n",
    "# Scaling the expected frequencies to match the total sum of observed frequencies\n",
    "# I introduced this passage after encountering a ValueError by applying the stats.chisquare function \n",
    "# (for the function to work the sum of the expexted frequencies must match the sum of the observed frequency \n",
    "# and without scaling the values of expected frequencies this condition was not satisfied).\n",
    "E *= np.sum(O) / np.sum(E)\n",
    "\n",
    "print(E)"
   ]
  },
  {
   "cell_type": "code",
   "execution_count": 25,
   "metadata": {},
   "outputs": [],
   "source": [
    "O = np.array([35, 99, 104, 110, 62, 25, 10, 3])\n",
    "E = np.array([39.38705697, 95.90748373, 116.76736144, 94.77617503, 57.69499655, 28.09746332, 11.4028872, 3.96657576])"
   ]
  },
  {
   "cell_type": "code",
   "execution_count": 26,
   "metadata": {},
   "outputs": [
    {
     "name": "stdout",
     "output_type": "stream",
     "text": [
      "[0.4886445  0.09971752 1.39598528 2.44539144 0.32122464 0.34146424\n",
      " 0.17259598 0.23553532]\n"
     ]
    },
    {
     "data": {
      "text/plain": [
       "5.500558934530607"
      ]
     },
     "execution_count": 26,
     "metadata": {},
     "output_type": "execute_result"
    }
   ],
   "source": [
    "# Compute statistic for chi2\n",
    "print(np.square(O-E) / E)\n",
    "statistic = (np.square(O-E) / E).sum()\n",
    "statistic"
   ]
  },
  {
   "cell_type": "code",
   "execution_count": 27,
   "metadata": {},
   "outputs": [
    {
     "data": {
      "text/plain": [
       "0.5991164534017539"
      ]
     },
     "execution_count": 27,
     "metadata": {},
     "output_type": "execute_result"
    }
   ],
   "source": [
    "# Calculate p-value\n",
    "dof = 7\n",
    "stats.chi2.sf(abs(statistic), dof)"
   ]
  },
  {
   "cell_type": "code",
   "execution_count": 28,
   "metadata": {},
   "outputs": [
    {
     "data": {
      "text/plain": [
       "Power_divergenceResult(statistic=5.500558934530607, pvalue=0.5991164534017539)"
      ]
     },
     "execution_count": 28,
     "metadata": {},
     "output_type": "execute_result"
    }
   ],
   "source": [
    "stats.chisquare(f_obs=O, f_exp=E)"
   ]
  },
  {
   "cell_type": "code",
   "execution_count": 29,
   "metadata": {},
   "outputs": [],
   "source": [
    "# Looking at the pvalue, we cannot confute the hypothesis that the variables follow a Poisson distribution. \n",
    "# So the null hypothesis that they do follow the Poisson distribution is still believable."
   ]
  },
  {
   "cell_type": "markdown",
   "metadata": {},
   "source": [
    "## Question 2\n",
    "A researcher gathers information about the patterns of Physical Activity of children in the fifth grade of primary school of a public school. He defines three categories of physical activity (Low, Medium, High). He also inquires about the regular consumption of sugary drinks at school, and defines two categories (Yes = consumed, No = not consumed). We would like to evaluate if there is an association between patterns of physical activity and the consumption of sugary drinks for the children of this school, at a level of 5% significance. The results are in the following table: \n",
    "\n",
    "![](table4.png)"
   ]
  },
  {
   "cell_type": "code",
   "execution_count": 30,
   "metadata": {},
   "outputs": [],
   "source": [
    "#your answer here\n",
    "sugary_drinks_table=[[32,12],\n",
    "                     [14,22],\n",
    "                     [6,9]]"
   ]
  },
  {
   "cell_type": "code",
   "execution_count": 31,
   "metadata": {},
   "outputs": [
    {
     "data": {
      "text/plain": [
       "Chi2ContingencyResult(statistic=10.712198008709638, pvalue=0.004719280137040844, dof=2, expected_freq=array([[24.08421053, 19.91578947],\n",
       "       [19.70526316, 16.29473684],\n",
       "       [ 8.21052632,  6.78947368]]))"
      ]
     },
     "execution_count": 31,
     "metadata": {},
     "output_type": "execute_result"
    }
   ],
   "source": [
    "# Contingency tables and independence of effects\n",
    "stats.chi2_contingency(np.array(sugary_drinks_table)) "
   ]
  },
  {
   "cell_type": "code",
   "execution_count": 32,
   "metadata": {},
   "outputs": [],
   "source": [
    "# Null hypothesis: the consumption of sugary drinks and physical activity are not associated.\n",
    "# test hypothesis: the consumption of sugary drinks and physical activity are associated (as in the first influences the second).\n",
    "# pvalue in the chi-square test is lower than 0.05, so we can reject the null hypothesis and state that there is a correlation betwwen the categorical variables od sugary consumption or NO sugary consumtion."
   ]
  },
  {
   "cell_type": "code",
   "execution_count": 33,
   "metadata": {},
   "outputs": [
    {
     "data": {
      "text/plain": [
       "Chi2ContingencyResult(statistic=10.975981909150999, pvalue=0.004136145536821807, dof=2, expected_freq=array([[24.08421053, 19.91578947],\n",
       "       [19.70526316, 16.29473684],\n",
       "       [ 8.21052632,  6.78947368]]))"
      ]
     },
     "execution_count": 33,
     "metadata": {},
     "output_type": "execute_result"
    }
   ],
   "source": [
    "stats.chi2_contingency(np.array(sugary_drinks_table), lambda_='log-likelihood') "
   ]
  },
  {
   "cell_type": "code",
   "execution_count": null,
   "metadata": {},
   "outputs": [],
   "source": [
    "# the G-test gives the same result as the Chi-squared-test."
   ]
  }
 ],
 "metadata": {
  "kernelspec": {
   "display_name": "Python 3",
   "language": "python",
   "name": "python3"
  },
  "language_info": {
   "codemirror_mode": {
    "name": "ipython",
    "version": 3
   },
   "file_extension": ".py",
   "mimetype": "text/x-python",
   "name": "python",
   "nbconvert_exporter": "python",
   "pygments_lexer": "ipython3",
   "version": "3.11.4"
  }
 },
 "nbformat": 4,
 "nbformat_minor": 2
}
